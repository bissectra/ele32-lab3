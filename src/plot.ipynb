{
 "cells": [
  {
   "cell_type": "code",
   "execution_count": null,
   "metadata": {},
   "outputs": [],
   "source": [
    "# read data from \"assets/error_probability.csv\" and plot an log-log scale\n",
    "# graph of the error probability per bit vs. the probability of error of the channel\n",
    "\n",
    "import matplotlib.pyplot as plt\n",
    "import numpy as np\n",
    "import pandas as pd"
   ]
  },
  {
   "cell_type": "code",
   "execution_count": null,
   "metadata": {},
   "outputs": [],
   "source": [
    "# read data from csv file\n",
    "df = pd.read_csv(\"assets/error_probability.csv\")\n",
    "\n",
    "# plot data with scatter plot over line plot\n",
    "# columns are\n",
    "# \"channel_prob\"\n",
    "# \"hamming_bit_error_probs\"\n",
    "# \"ldpc_bit_error_probs_100\"\n",
    "# \"ldpc_bit_error_probs_200\"\n",
    "# \"ldpc_bit_error_probs_500\"\n",
    "# \"ldpc_bit_error_probs_1000\"\n",
    "\n",
    "plt.scatter(df[\"channel_prob\"], df[\"hamming_bit_error_probs\"], label=\"Hamming\")\n",
    "plt.scatter(df[\"channel_prob\"], df[\"ldpc_bit_error_probs_100\"], label=\"LDPC 100\")\n",
    "plt.scatter(df[\"channel_prob\"], df[\"ldpc_bit_error_probs_200\"], label=\"LDPC 200\")\n",
    "plt.scatter(df[\"channel_prob\"], df[\"ldpc_bit_error_probs_500\"], label=\"LDPC 500\")\n",
    "plt.scatter(df[\"channel_prob\"], df[\"ldpc_bit_error_probs_1000\"], label=\"LDPC 1000\")\n",
    "\n",
    "plt.plot(df[\"channel_prob\"], df[\"hamming_bit_error_probs\"])\n",
    "plt.plot(df[\"channel_prob\"], df[\"ldpc_bit_error_probs_100\"])\n",
    "plt.plot(df[\"channel_prob\"], df[\"ldpc_bit_error_probs_200\"])\n",
    "plt.plot(df[\"channel_prob\"], df[\"ldpc_bit_error_probs_500\"])\n",
    "plt.plot(df[\"channel_prob\"], df[\"ldpc_bit_error_probs_1000\"])\n",
    "\n",
    "# set axis labels\n",
    "plt.xlabel(\"Channel Error Probability\")\n",
    "plt.ylabel(\"Error Probability per Bit\")\n",
    "\n",
    "# set axis scale to log-log\n",
    "plt.xscale(\"log\")\n",
    "plt.yscale(\"log\")\n",
    "\n",
    "# set axis limits\n",
    "plt.xlim(0.00001, 0.1)\n",
    "plt.ylim(0.00001, 0.1)\n",
    "\n",
    "# set axis ticks\n",
    "plt.xticks([0.00001, 0.0001, 0.001, 0.01, 0.1])\n",
    "plt.yticks([0.00001, 0.0001, 0.001, 0.01, 0.1])\n",
    "\n",
    "# reverse x-axis\n",
    "plt.gca().invert_xaxis()\n",
    "\n",
    "# set legend\n",
    "plt.legend()\n",
    "\n",
    "# save plot to file\n",
    "plt.savefig(\"assets/error_probability.png\")\n",
    "\n",
    "# show plot\n",
    "plt.show()"
   ]
  }
 ],
 "metadata": {
  "kernelspec": {
   "display_name": ".venv",
   "language": "python",
   "name": "python3"
  },
  "language_info": {
   "codemirror_mode": {
    "name": "ipython",
    "version": 3
   },
   "file_extension": ".py",
   "mimetype": "text/x-python",
   "name": "python",
   "nbconvert_exporter": "python",
   "pygments_lexer": "ipython3",
   "version": "3.10.6"
  },
  "orig_nbformat": 4
 },
 "nbformat": 4,
 "nbformat_minor": 2
}
